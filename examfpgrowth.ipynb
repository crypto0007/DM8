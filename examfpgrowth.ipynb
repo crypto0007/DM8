{
 "cells": [
  {
   "cell_type": "code",
   "execution_count": 1,
   "metadata": {},
   "outputs": [],
   "source": [
    "import numpy as np;\n",
    "import pandas as pd;\n",
    "import pyfpgrowth;"
   ]
  },
  {
   "cell_type": "code",
   "execution_count": 2,
   "metadata": {},
   "outputs": [],
   "source": [
    "dataset=[['M', 'O', 'N', 'K', 'E', 'Y'],\n",
    "           ['D', 'O', 'N', 'K', 'E', 'Y'],\n",
    "           ['M', 'A', 'K', 'E'],\n",
    "           ['M', 'U', 'C', 'K', 'Y'],\n",
    "           ['C', 'O', 'O', 'K', 'I', 'E']]"
   ]
  },
  {
   "cell_type": "code",
   "execution_count": 3,
   "metadata": {},
   "outputs": [
    {
     "name": "stdout",
     "output_type": "stream",
     "text": [
      "No. of patterns found =  10\n"
     ]
    },
    {
     "data": {
      "text/plain": [
       "{('M',): 3,\n",
       " ('K', 'M'): 3,\n",
       " ('Y',): 3,\n",
       " ('K', 'Y'): 3,\n",
       " ('O',): 4,\n",
       " ('K', 'O'): 4,\n",
       " ('E', 'O'): 4,\n",
       " ('E', 'K'): 4,\n",
       " ('E', 'K', 'O'): 4,\n",
       " ('K',): 5}"
      ]
     },
     "execution_count": 3,
     "metadata": {},
     "output_type": "execute_result"
    }
   ],
   "source": [
    "patterns = pyfpgrowth.find_frequent_patterns(dataset, 3);\n",
    "# patterns = pyfpgrowth.find_frequent_patterns(dataset, 4);\n",
    "print(\"No. of patterns found = \", len(patterns));\n",
    "patterns"
   ]
  },
  {
   "cell_type": "code",
   "execution_count": 4,
   "metadata": {},
   "outputs": [
    {
     "name": "stdout",
     "output_type": "stream",
     "text": [
      "No. of rules found = 7\n"
     ]
    },
    {
     "data": {
      "text/plain": [
       "{('M',): (('K',), 1.0),\n",
       " ('Y',): (('K',), 1.0),\n",
       " ('K',): (('E', 'O'), 0.8),\n",
       " ('O',): (('E', 'K'), 1.0),\n",
       " ('E', 'K'): (('O',), 1.0),\n",
       " ('E', 'O'): (('K',), 1.0),\n",
       " ('K', 'O'): (('E',), 1.0)}"
      ]
     },
     "execution_count": 4,
     "metadata": {},
     "output_type": "execute_result"
    }
   ],
   "source": [
    "rules = pyfpgrowth.generate_association_rules(patterns, 0.7)\n",
    "print(\"No. of rules found =\", len(rules));\n",
    "rules"
   ]
  },
  {
   "cell_type": "code",
   "execution_count": null,
   "metadata": {},
   "outputs": [],
   "source": []
  }
 ],
 "metadata": {
  "kernelspec": {
   "display_name": "Python 3",
   "language": "python",
   "name": "python3"
  },
  "language_info": {
   "codemirror_mode": {
    "name": "ipython",
    "version": 3
   },
   "file_extension": ".py",
   "mimetype": "text/x-python",
   "name": "python",
   "nbconvert_exporter": "python",
   "pygments_lexer": "ipython3",
   "version": "3.7.1"
  }
 },
 "nbformat": 4,
 "nbformat_minor": 2
}
